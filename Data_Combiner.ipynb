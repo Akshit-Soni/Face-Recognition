{
  "nbformat": 4,
  "nbformat_minor": 0,
  "metadata": {
    "colab": {
      "name": "Data Combiner.ipynb",
      "provenance": [],
      "collapsed_sections": [],
      "authorship_tag": "ABX9TyO4x5G7VrgQX1jltHqQrhqn"
    },
    "kernelspec": {
      "name": "python3",
      "display_name": "Python 3"
    },
    "language_info": {
      "name": "python"
    }
  },
  "cells": [
    {
      "cell_type": "markdown",
      "metadata": {
        "id": "W9arx6HrLicF"
      },
      "source": [
        "Combining the Files corresponding to Different Persons"
      ]
    },
    {
      "cell_type": "code",
      "metadata": {
        "id": "5vz9nyaa4d8x"
      },
      "source": [
        "import cv2\n",
        "import numpy as np\n",
        "import matplotlib.pyplot as plt"
      ],
      "execution_count": 1,
      "outputs": []
    },
    {
      "cell_type": "code",
      "metadata": {
        "colab": {
          "base_uri": "https://localhost:8080/"
        },
        "id": "ZBoX3BK84tMC",
        "outputId": "f1bc8796-1d64-4243-899b-1d496d8c9c10"
      },
      "source": [
        "from google.colab import drive\n",
        "drive.mount(\"/content/gdrive/\")"
      ],
      "execution_count": 22,
      "outputs": [
        {
          "output_type": "stream",
          "name": "stdout",
          "text": [
            "Drive already mounted at /content/gdrive/; to attempt to forcibly remount, call drive.mount(\"/content/gdrive/\", force_remount=True).\n"
          ]
        }
      ]
    },
    {
      "cell_type": "code",
      "metadata": {
        "colab": {
          "base_uri": "https://localhost:8080/"
        },
        "id": "By0ostQ_4j3p",
        "outputId": "33b98664-89cb-4212-cf01-aea8313cbc3e"
      },
      "source": [
        "path = \"/content/gdrive/MyDrive/pythonProject/\"\n",
        "x_train = np.load(path+\"1st.npy\")\n",
        "y_train = np.load(path+\"2nd.npy\")\n",
        "\n",
        "print(type(x_train), type(y_train))\n"
      ],
      "execution_count": 23,
      "outputs": [
        {
          "output_type": "stream",
          "name": "stdout",
          "text": [
            "<class 'numpy.ndarray'> <class 'numpy.ndarray'>\n"
          ]
        }
      ]
    },
    {
      "cell_type": "code",
      "metadata": {
        "id": "26a60VQf4j1U"
      },
      "source": [
        "import os"
      ],
      "execution_count": 24,
      "outputs": []
    },
    {
      "cell_type": "code",
      "metadata": {
        "colab": {
          "base_uri": "https://localhost:8080/"
        },
        "id": "BDgDUfipKk0C",
        "outputId": "f4c77e3c-4549-465e-f51d-cb26dd69421d"
      },
      "source": [
        "# Change Working directory\n",
        "\n",
        "print(os.listdir(\"/content/gdrive/MyDrive/pythonProject/Input/\"))\n",
        "os.chdir(\"/content/gdrive/MyDrive/pythonProject/Input/\")\n",
        "print(os.listdir(\".\"))"
      ],
      "execution_count": 31,
      "outputs": [
        {
          "output_type": "stream",
          "name": "stdout",
          "text": [
            "['1st.npy', '2nd.npy']\n",
            "['1st.npy', '2nd.npy']\n"
          ]
        }
      ]
    },
    {
      "cell_type": "code",
      "metadata": {
        "colab": {
          "base_uri": "https://localhost:8080/"
        },
        "id": "SG0UI4bL4jtE",
        "outputId": "042f9289-2f68-4d2e-e8c2-f421ec638b16"
      },
      "source": [
        "files = os.listdir(\"/content/gdrive/MyDrive/pythonProject/Input/\") # returns a list of files with in the given path\n",
        "X = []\n",
        "for f in files:\n",
        "    if f.endswith(\".npy\"):\n",
        "        print(f)\n",
        "        data = np.load(f)\n",
        "        X.append(data)\n",
        "\n",
        "print(len(X))\n",
        "X_train = np.concatenate(X, axis=0)\n",
        "print(X_train.shape)\n",
        "np.save(\"X_train\", X_train)"
      ],
      "execution_count": 32,
      "outputs": [
        {
          "output_type": "stream",
          "name": "stdout",
          "text": [
            "1st.npy\n",
            "2nd.npy\n",
            "2\n",
            "(135, 1, 30000)\n"
          ]
        }
      ]
    },
    {
      "cell_type": "code",
      "metadata": {
        "colab": {
          "base_uri": "https://localhost:8080/"
        },
        "id": "sppY90UW4joR",
        "outputId": "e16ce3fa-aa0f-497a-d5e1-3d0067ed31ef"
      },
      "source": [
        "## create Y_train\n",
        "y = []\n",
        "map = {} # map of class_labels : name\n",
        "class_label = 0\n",
        "for f in os.listdir(\"/content/gdrive/MyDrive/pythonProject/Input/\")[:-1]:\n",
        "    if f.endswith(\".npy\"):\n",
        "        name = f.split(\".\")[0]\n",
        "        print(name, class_label)\n",
        "        map[class_label] = name\n",
        "\n",
        "        shape = (len(np.load(f)), 1)\n",
        "        labels = class_label*np.ones(shape)\n",
        "        y.append(labels)\n",
        "        class_label += 1\n",
        "print(map)\n",
        "print(len(y))"
      ],
      "execution_count": 34,
      "outputs": [
        {
          "output_type": "stream",
          "name": "stdout",
          "text": [
            "1st 0\n",
            "2nd 1\n",
            "{0: '1st', 1: '2nd'}\n",
            "2\n"
          ]
        }
      ]
    },
    {
      "cell_type": "code",
      "metadata": {
        "colab": {
          "base_uri": "https://localhost:8080/"
        },
        "id": "Q0w45qRD4jfw",
        "outputId": "f1f631be-0348-4626-cf67-eedaed358c02"
      },
      "source": [
        "s = \"beautiful\"\n",
        "s = \"2st.npy\"\n",
        "print(s.endswith(\"npy\"))\n",
        "if s[-3:] == \"npy\":\n",
        "    print(s)"
      ],
      "execution_count": 35,
      "outputs": [
        {
          "output_type": "stream",
          "name": "stdout",
          "text": [
            "True\n",
            "2st.npy\n"
          ]
        }
      ]
    },
    {
      "cell_type": "code",
      "metadata": {
        "colab": {
          "base_uri": "https://localhost:8080/"
        },
        "id": "fiX24vwBLPDn",
        "outputId": "1cd92183-1f82-4636-f4a4-8f9331ef46aa"
      },
      "source": [
        "y = np.concatenate(y, axis = 0)\n",
        "print(y.shape)"
      ],
      "execution_count": 36,
      "outputs": [
        {
          "output_type": "stream",
          "name": "stdout",
          "text": [
            "(135, 1)\n"
          ]
        }
      ]
    },
    {
      "cell_type": "code",
      "metadata": {
        "id": "zRC8ZXlFLO-3"
      },
      "source": [
        "np.save(\"Y_train\", y)"
      ],
      "execution_count": 37,
      "outputs": []
    },
    {
      "cell_type": "code",
      "metadata": {
        "colab": {
          "base_uri": "https://localhost:8080/"
        },
        "id": "eVlTLS6-LO8i",
        "outputId": "b1a79803-73a1-4c09-8cd7-ed1f543898ab"
      },
      "source": [
        "## Load X_train\n",
        "x_ = []\n",
        "x = np.load(\"X_train.npy\")\n",
        "print(x.shape)\n",
        "for img in x:\n",
        "    # print(img.shape)\n",
        "    img = img.flatten()\n",
        "    x_.append(img)\n",
        "x_ = np.array(x_)\n",
        "print(x_.shape)\n",
        "np.save(\"X_train_new\", x_)"
      ],
      "execution_count": 38,
      "outputs": [
        {
          "output_type": "stream",
          "name": "stdout",
          "text": [
            "(135, 1, 30000)\n",
            "(135, 30000)\n"
          ]
        }
      ]
    },
    {
      "cell_type": "code",
      "metadata": {
        "id": "ACl_zPPjLwv7"
      },
      "source": [
        ""
      ],
      "execution_count": null,
      "outputs": []
    },
    {
      "cell_type": "code",
      "metadata": {
        "id": "bYUgteFILwfS"
      },
      "source": [
        ""
      ],
      "execution_count": null,
      "outputs": []
    }
  ]
}